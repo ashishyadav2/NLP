{
 "cells": [
  {
   "cell_type": "code",
   "execution_count": 11,
   "metadata": {},
   "outputs": [],
   "source": [
    "with open('file_path') as file:\n",
    "    text = file.readlines()"
   ]
  },
  {
   "cell_type": "code",
   "execution_count": 15,
   "metadata": {},
   "outputs": [],
   "source": [
    "import spacy\n",
    "nlp = spacy.load('en_core_web_sm')\n",
    "doc = nlp(' '.join(text))"
   ]
  },
  {
   "cell_type": "code",
   "execution_count": 29,
   "metadata": {},
   "outputs": [
    {
     "data": {
      "text/plain": [
       "98"
      ]
     },
     "execution_count": 29,
     "metadata": {},
     "output_type": "execute_result"
    }
   ],
   "source": [
    "nouns = []\n",
    "nums = []\n",
    "for token in doc:\n",
    "    if token.pos_ == 'NOUN':\n",
    "        nouns.append(token)\n",
    "    elif token.pos_ == 'NUM':\n",
    "        nums.append(token)\n",
    "len(nouns)"
   ]
  },
  {
   "cell_type": "code",
   "execution_count": 31,
   "metadata": {},
   "outputs": [
    {
     "name": "stdout",
     "output_type": "stream",
     "text": [
      "{92: 98, 100: 27, 86: 15, 85: 39, 96: 17, 97: 32, 90: 34, 95: 4, 87: 13, 89: 10, 84: 23, 103: 7, 93: 20, 94: 4, 98: 8, 101: 1}\n"
     ]
    }
   ],
   "source": [
    "n_count = doc.count_by(spacy.attrs.POS)\n",
    "print(n_count)"
   ]
  },
  {
   "cell_type": "code",
   "execution_count": 36,
   "metadata": {},
   "outputs": [
    {
     "name": "stdout",
     "output_type": "stream",
     "text": [
      "NOUN (92): 98\n",
      "VERB (100): 27\n",
      "ADV (86): 15\n",
      "ADP (85): 39\n",
      "PROPN (96): 17\n",
      "PUNCT (97): 32\n",
      "DET (90): 34\n",
      "PRON (95): 4\n",
      "AUX (87): 13\n",
      "CCONJ (89): 10\n",
      "ADJ (84): 23\n",
      "SPACE (103): 7\n",
      "NUM (93): 20\n",
      "PART (94): 4\n",
      "SCONJ (98): 8\n",
      "X (101): 1\n"
     ]
    }
   ],
   "source": [
    "for keys,values in n_count.items():\n",
    "    print(f'{doc.vocab[keys].text} ({keys}): {values}')"
   ]
  }
 ],
 "metadata": {
  "kernelspec": {
   "display_name": "Python 3",
   "language": "python",
   "name": "python3"
  },
  "language_info": {
   "codemirror_mode": {
    "name": "ipython",
    "version": 3
   },
   "file_extension": ".py",
   "mimetype": "text/x-python",
   "name": "python",
   "nbconvert_exporter": "python",
   "pygments_lexer": "ipython3",
   "version": "3.11.3"
  },
  "orig_nbformat": 4
 },
 "nbformat": 4,
 "nbformat_minor": 2
}
