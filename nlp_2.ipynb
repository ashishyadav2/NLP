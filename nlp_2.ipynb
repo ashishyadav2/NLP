{
 "cells": [
  {
   "cell_type": "code",
   "execution_count": 11,
   "metadata": {},
   "outputs": [],
   "source": [
    "import spacy"
   ]
  },
  {
   "cell_type": "code",
   "execution_count": 12,
   "metadata": {},
   "outputs": [],
   "source": [
    "nlp = spacy.blank('en')\n",
    "doc = nlp(\"The sun slowly set over the tranquil horizon, casting a golden glow across the shimmering waves. Seagulls glided gracefully through the air, their cries echoing in the distance. As the evening grew darker, the stars emerged one by one, dotting the night sky like diamonds. A gentle breeze rustled through the leaves, carrying with it the scent of freshly bloomed flowers. It was a peaceful scene, a moment of serenity amidst the chaos of everyday life.\")"
   ]
  },
  {
   "cell_type": "code",
   "execution_count": 13,
   "metadata": {},
   "outputs": [
    {
     "name": "stdout",
     "output_type": "stream",
     "text": [
      "The\n",
      "sun\n",
      "slowly\n",
      "set\n",
      "over\n",
      "the\n",
      "tranquil\n",
      "horizon\n",
      ",\n",
      "casting\n",
      "a\n",
      "golden\n",
      "glow\n",
      "across\n",
      "the\n",
      "shimmering\n",
      "waves\n",
      ".\n",
      "Seagulls\n",
      "glided\n",
      "gracefully\n",
      "through\n",
      "the\n",
      "air\n",
      ",\n",
      "their\n",
      "cries\n",
      "echoing\n",
      "in\n",
      "the\n",
      "distance\n",
      ".\n",
      "As\n",
      "the\n",
      "evening\n",
      "grew\n",
      "darker\n",
      ",\n",
      "the\n",
      "stars\n",
      "emerged\n",
      "one\n",
      "by\n",
      "one\n",
      ",\n",
      "dotting\n",
      "the\n",
      "night\n",
      "sky\n",
      "like\n",
      "diamonds\n",
      ".\n",
      "A\n",
      "gentle\n",
      "breeze\n",
      "rustled\n",
      "through\n",
      "the\n",
      "leaves\n",
      ",\n",
      "carrying\n",
      "with\n",
      "it\n",
      "the\n",
      "scent\n",
      "of\n",
      "freshly\n",
      "bloomed\n",
      "flowers\n",
      ".\n",
      "It\n",
      "was\n",
      "a\n",
      "peaceful\n",
      "scene\n",
      ",\n",
      "a\n",
      "moment\n",
      "of\n",
      "serenity\n",
      "amidst\n",
      "the\n",
      "chaos\n",
      "of\n",
      "everyday\n",
      "life\n",
      ".\n"
     ]
    }
   ],
   "source": [
    "for token in doc:\n",
    "    print(token)"
   ]
  },
  {
   "cell_type": "code",
   "execution_count": 14,
   "metadata": {},
   "outputs": [
    {
     "data": {
      "text/plain": [
       "[]"
      ]
     },
     "execution_count": 14,
     "metadata": {},
     "output_type": "execute_result"
    }
   ],
   "source": [
    "nlp.pipe_names"
   ]
  },
  {
   "cell_type": "code",
   "execution_count": 15,
   "metadata": {},
   "outputs": [],
   "source": [
    "nlp = spacy.load(\"en_core_web_sm\")"
   ]
  },
  {
   "cell_type": "code",
   "execution_count": 16,
   "metadata": {},
   "outputs": [
    {
     "data": {
      "text/plain": [
       "['tok2vec', 'tagger', 'parser', 'attribute_ruler', 'lemmatizer', 'ner']"
      ]
     },
     "execution_count": 16,
     "metadata": {},
     "output_type": "execute_result"
    }
   ],
   "source": [
    "nlp.pipe_names"
   ]
  },
  {
   "cell_type": "code",
   "execution_count": 17,
   "metadata": {},
   "outputs": [],
   "source": [
    "doc = nlp(\"The sun slowly set over the tranquil horizon, casting a golden glow across the shimmering waves. Seagulls glided gracefully through the air, their cries echoing in the distance. As the evening grew darker, the stars emerged one by one, dotting the night sky like diamonds. A gentle breeze rustled through the leaves, carrying with it the scent of freshly bloomed flowers. It was a peaceful scene, a moment of serenity amidst the chaos of everyday life.\")"
   ]
  },
  {
   "cell_type": "code",
   "execution_count": 18,
   "metadata": {},
   "outputs": [
    {
     "name": "stdout",
     "output_type": "stream",
     "text": [
      "The  |  DET  |  the\n",
      "sun  |  NOUN  |  sun\n",
      "slowly  |  ADV  |  slowly\n",
      "set  |  VERB  |  set\n",
      "over  |  ADP  |  over\n",
      "the  |  DET  |  the\n",
      "tranquil  |  NOUN  |  tranquil\n",
      "horizon  |  NOUN  |  horizon\n",
      ",  |  PUNCT  |  ,\n",
      "casting  |  VERB  |  cast\n",
      "a  |  DET  |  a\n",
      "golden  |  ADJ  |  golden\n",
      "glow  |  NOUN  |  glow\n",
      "across  |  ADP  |  across\n",
      "the  |  DET  |  the\n",
      "shimmering  |  VERB  |  shimmer\n",
      "waves  |  NOUN  |  wave\n",
      ".  |  PUNCT  |  .\n",
      "Seagulls  |  NOUN  |  seagull\n",
      "glided  |  VERB  |  glide\n",
      "gracefully  |  ADV  |  gracefully\n",
      "through  |  ADP  |  through\n",
      "the  |  DET  |  the\n",
      "air  |  NOUN  |  air\n",
      ",  |  PUNCT  |  ,\n",
      "their  |  PRON  |  their\n",
      "cries  |  NOUN  |  cry\n",
      "echoing  |  VERB  |  echo\n",
      "in  |  ADP  |  in\n",
      "the  |  DET  |  the\n",
      "distance  |  NOUN  |  distance\n",
      ".  |  PUNCT  |  .\n",
      "As  |  SCONJ  |  as\n",
      "the  |  DET  |  the\n",
      "evening  |  NOUN  |  evening\n",
      "grew  |  VERB  |  grow\n",
      "darker  |  NOUN  |  darker\n",
      ",  |  PUNCT  |  ,\n",
      "the  |  DET  |  the\n",
      "stars  |  NOUN  |  star\n",
      "emerged  |  VERB  |  emerge\n",
      "one  |  NUM  |  one\n",
      "by  |  ADP  |  by\n",
      "one  |  NUM  |  one\n",
      ",  |  PUNCT  |  ,\n",
      "dotting  |  VERB  |  dot\n",
      "the  |  DET  |  the\n",
      "night  |  NOUN  |  night\n",
      "sky  |  NOUN  |  sky\n",
      "like  |  ADP  |  like\n",
      "diamonds  |  NOUN  |  diamond\n",
      ".  |  PUNCT  |  .\n",
      "A  |  DET  |  a\n",
      "gentle  |  ADJ  |  gentle\n",
      "breeze  |  NOUN  |  breeze\n",
      "rustled  |  VERB  |  rustle\n",
      "through  |  ADP  |  through\n",
      "the  |  DET  |  the\n",
      "leaves  |  NOUN  |  leave\n",
      ",  |  PUNCT  |  ,\n",
      "carrying  |  VERB  |  carry\n",
      "with  |  ADP  |  with\n",
      "it  |  PRON  |  it\n",
      "the  |  DET  |  the\n",
      "scent  |  NOUN  |  scent\n",
      "of  |  ADP  |  of\n",
      "freshly  |  ADV  |  freshly\n",
      "bloomed  |  VERB  |  bloom\n",
      "flowers  |  NOUN  |  flower\n",
      ".  |  PUNCT  |  .\n",
      "It  |  PRON  |  it\n",
      "was  |  AUX  |  be\n",
      "a  |  DET  |  a\n",
      "peaceful  |  ADJ  |  peaceful\n",
      "scene  |  NOUN  |  scene\n",
      ",  |  PUNCT  |  ,\n",
      "a  |  DET  |  a\n",
      "moment  |  NOUN  |  moment\n",
      "of  |  ADP  |  of\n",
      "serenity  |  NOUN  |  serenity\n",
      "amidst  |  ADP  |  amidst\n",
      "the  |  DET  |  the\n",
      "chaos  |  NOUN  |  chaos\n",
      "of  |  ADP  |  of\n",
      "everyday  |  ADJ  |  everyday\n",
      "life  |  NOUN  |  life\n",
      ".  |  PUNCT  |  .\n"
     ]
    }
   ],
   "source": [
    "# pos_ is part of speech, lemma_ is to get base word of the word\n",
    "for token in doc:\n",
    "    print(token,' | ',token.pos_,' | ',token.lemma_)"
   ]
  },
  {
   "cell_type": "code",
   "execution_count": 32,
   "metadata": {},
   "outputs": [
    {
     "name": "stdout",
     "output_type": "stream",
     "text": [
      "Ashish Yadav  |  PERSON  |  People, including fictional\n",
      "20  |  CARDINAL  |  Numerals that do not fall under another type\n",
      "toyota  |  ORG  |  Companies, agencies, institutions, etc.\n"
     ]
    }
   ],
   "source": [
    "# ents is entities \n",
    "# .text to get text information\n",
    "# label_ to get type of entity\n",
    "# spacy.explain(ent.label_) to get explaination of the entity\n",
    "doc = nlp(\"My name is Ashish Yadav. I have 20 cars, namely ently, toyota land cruiser\")\n",
    "for ent in doc.ents:\n",
    "    print(ent.text,' | ',ent.label_,' | ',spacy.explain(ent.label_))"
   ]
  },
  {
   "cell_type": "code",
   "execution_count": 34,
   "metadata": {},
   "outputs": [
    {
     "data": {
      "text/plain": [
       "['ner']"
      ]
     },
     "execution_count": 34,
     "metadata": {},
     "output_type": "execute_result"
    }
   ],
   "source": [
    "# to add specific component to the nlp pipeline\n",
    "# create empty pipeline add component from trained pipeline\n",
    "source_nlp = spacy.load('en_core_web_sm')\n",
    "nlp = spacy.blank('en')\n",
    "#ner is name entity relationship\n",
    "nlp.add_pipe('ner',source = source_nlp)\n",
    "nlp.pipe_names"
   ]
  },
  {
   "cell_type": "markdown",
   "metadata": {},
   "source": [
    "## Stemming and Lemmatization"
   ]
  },
  {
   "cell_type": "code",
   "execution_count": 38,
   "metadata": {},
   "outputs": [],
   "source": [
    "import nltk"
   ]
  },
  {
   "cell_type": "code",
   "execution_count": 39,
   "metadata": {},
   "outputs": [],
   "source": [
    "from nltk.stem import PorterStemmer"
   ]
  },
  {
   "cell_type": "code",
   "execution_count": 41,
   "metadata": {},
   "outputs": [
    {
     "name": "stdout",
     "output_type": "stream",
     "text": [
      "eating  |  eat\n",
      "running  |  run\n",
      "eat  |  eat\n",
      "ate  |  ate\n",
      "adjustable  |  adjust\n",
      "better  |  better\n"
     ]
    }
   ],
   "source": [
    "stemmer = PorterStemmer()\n",
    "words = ['eating','running','eat','ate','adjustable','better']\n",
    "for word in words:\n",
    "    print(word,' | ',stemmer.stem(word))"
   ]
  },
  {
   "cell_type": "code",
   "execution_count": 42,
   "metadata": {},
   "outputs": [],
   "source": [
    "# in spacy \n",
    "# use token.lemma_\n",
    "nlp = spacy.load('en_core_web_sm')"
   ]
  },
  {
   "cell_type": "code",
   "execution_count": 48,
   "metadata": {},
   "outputs": [
    {
     "name": "stdout",
     "output_type": "stream",
     "text": [
      "   |   \n",
      "Hello  |  hello\n",
      "bro  |  brother\n",
      "!  |  !\n",
      ",  |  ,\n",
      "brah  |  brother\n"
     ]
    }
   ],
   "source": [
    "# model doesn't understand slang we need to add custom attributes\n",
    "# to get component from pipeline\n",
    "ar = nlp.get_pipe('attribute_ruler')\n",
    "ar.add([[{'TEXT': 'bro'}],[{'TEXT': 'brah'}]],{'LEMMA':'brother'}) # add custom rule\n",
    "doc = nlp(\" Hello bro! , brah\")\n",
    "for token in doc:\n",
    "    print(token,' | ',token.lemma_)"
   ]
  }
 ],
 "metadata": {
  "kernelspec": {
   "display_name": "Python 3",
   "language": "python",
   "name": "python3"
  },
  "language_info": {
   "codemirror_mode": {
    "name": "ipython",
    "version": 3
   },
   "file_extension": ".py",
   "mimetype": "text/x-python",
   "name": "python",
   "nbconvert_exporter": "python",
   "pygments_lexer": "ipython3",
   "version": "3.11.3"
  },
  "orig_nbformat": 4
 },
 "nbformat": 4,
 "nbformat_minor": 2
}
