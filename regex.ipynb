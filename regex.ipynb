{
 "cells": [
  {
   "cell_type": "markdown",
   "metadata": {},
   "source": [
    "# Regex uisng re libarary\n",
    "### https://regex101.com/ to test regex commands"
   ]
  },
  {
   "cell_type": "code",
   "execution_count": 103,
   "metadata": {},
   "outputs": [],
   "source": [
    "import re"
   ]
  },
  {
   "cell_type": "code",
   "execution_count": 104,
   "metadata": {},
   "outputs": [],
   "source": [
    "file = open('./Txts/ph_num.txt','r')\n",
    "txts = ' '.join(file.readlines())"
   ]
  },
  {
   "cell_type": "code",
   "execution_count": 105,
   "metadata": {},
   "outputs": [
    {
     "name": "stdout",
     "output_type": "stream",
     "text": [
      "['123-456-789', '(555)-123-456', '(987)-654-321', '800-555-123', '555-999-888']\n"
     ]
    }
   ],
   "source": [
    "matches = re.findall(r'\\d{10}',txts)\n",
    "matches2 = re.findall(r'\\(\\d{3}\\)-\\d{3}-\\d{3}',txts)\n",
    "matches3 = re.findall(r'\\d{3}-\\d{3}-\\d{3}|\\(\\d{3}\\)-\\d{3}-\\d{3}',txts)\n",
    "print(matches3)"
   ]
  },
  {
   "cell_type": "code",
   "execution_count": 106,
   "metadata": {},
   "outputs": [
    {
     "name": "stdout",
     "output_type": "stream",
     "text": [
      "['xyz1_23_@gmail.com', 'abdf.g123@one0.in']\n"
     ]
    }
   ],
   "source": [
    "# email matching\n",
    "pattern = r'[a-zA-Z0-9_\\.]*@[a-zA-Z0-9]*\\.[a-zA-Z]*'\n",
    "email = re.findall(pattern,txts)\n",
    "print(email)"
   ]
  },
  {
   "cell_type": "code",
   "execution_count": 107,
   "metadata": {},
   "outputs": [
    {
     "name": "stdout",
     "output_type": "stream",
     "text": [
      "[('65', ''), ('646', ''), ('49846465', '')]\n"
     ]
    }
   ],
   "source": [
    "#to get order number\n",
    "pattern = r'order[^\\d]*(\\d*)|order[^\\d]*(\\d*[a-z0-9]*)'\n",
    "order = re.findall(pattern,txts)\n",
    "print(order)"
   ]
  }
 ],
 "metadata": {
  "kernelspec": {
   "display_name": "Python 3",
   "language": "python",
   "name": "python3"
  },
  "language_info": {
   "codemirror_mode": {
    "name": "ipython",
    "version": 3
   },
   "file_extension": ".py",
   "mimetype": "text/x-python",
   "name": "python",
   "nbconvert_exporter": "python",
   "pygments_lexer": "ipython3",
   "version": "3.11.3"
  },
  "orig_nbformat": 4
 },
 "nbformat": 4,
 "nbformat_minor": 2
}
