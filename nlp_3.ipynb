{
 "cells": [
  {
   "cell_type": "markdown",
   "metadata": {},
   "source": [
    "## Part of Speech POS"
   ]
  },
  {
   "cell_type": "code",
   "execution_count": 20,
   "metadata": {},
   "outputs": [],
   "source": [
    "import spacy"
   ]
  },
  {
   "cell_type": "code",
   "execution_count": 21,
   "metadata": {},
   "outputs": [],
   "source": [
    "nlp = spacy.load(\"en_core_web_sm\")"
   ]
  },
  {
   "cell_type": "code",
   "execution_count": 22,
   "metadata": {},
   "outputs": [
    {
     "name": "stdout",
     "output_type": "stream",
     "text": [
      "momo :  NOUN ( noun ) NN noun, singular or mass\n",
      "slowly :  ADV ( adverb ) RB adverb\n",
      "ate :  VERB ( verb ) VBD verb, past tense\n",
      "fruits :  NOUN ( noun ) NNS noun, plural\n",
      "on :  ADP ( adposition ) IN conjunction, subordinating or preposition\n",
      "the :  DET ( determiner ) DT determiner\n",
      "table :  NOUN ( noun ) NN noun, singular or mass\n",
      ". :  PUNCT ( punctuation ) . punctuation mark, sentence closer\n",
      "etc :  X ( other ) FW foreign word\n"
     ]
    }
   ],
   "source": [
    "doc = nlp(\"momo slowly ate fruits on the table. etc\")\n",
    "# tag_ is more detailed than pos_ like singular noun, etc\n",
    "for token in doc:\n",
    "    print(token,': ',token.pos_,'(',spacy.explain(token.pos_),')',token.tag_,spacy.explain(token.tag_))"
   ]
  },
  {
   "cell_type": "code",
   "execution_count": 23,
   "metadata": {},
   "outputs": [],
   "source": [
    "text = '''\n",
    "The rapid advancements in natural language processing (NLP) have revolutionized the way we interact with computers and machines. NLP techniques enable computers to understand, interpret, and generate human language, facilitating tasks such as speech recognition, machine translation, sentiment analysis, and chatbot development.\n",
    "\n",
    "One of the key challenges in NLP is accurately capturing the nuances and complexities of human language. This involves handling various linguistic elements like grammar, semantics, syntax, and context. Researchers and developers employ techniques such as machine learning, deep learning, and neural networks to train models that can process and analyze text data.\n",
    "\n",
    "NLP finds applications in a wide range of fields. In healthcare, NLP is used to analyze medical records, extract relevant information, and assist in clinical decision-making. In customer service, chatbots powered by NLP can provide instant support and resolve queries. NLP also plays a vital role in social media analysis, enabling sentiment analysis and opinion mining.\n",
    "\n",
    "However, NLP still faces challenges. Ambiguities, idiomatic expressions, and language variations pose difficulties in accurately understanding text. Bias and ethical concerns must also be addressed to ensure fair and inclusive NLP applications.\n",
    "\n",
    "As NLP continues to advance, researchers are exploring exciting frontiers such as natural language understanding, context-aware systems, and multi-modal language processing. These advancements hold immense potential for enhancing human-computer interaction and unlocking new possibilities across industries.\n",
    "'''"
   ]
  },
  {
   "cell_type": "code",
   "execution_count": 24,
   "metadata": {},
   "outputs": [],
   "source": [
    "doc = nlp(text)"
   ]
  },
  {
   "cell_type": "code",
   "execution_count": 25,
   "metadata": {},
   "outputs": [
    {
     "name": "stdout",
     "output_type": "stream",
     "text": [
      "[The, rapid, advancements, in, natural, language, processing, NLP, have, revolutionized, the, way, we, interact, with, computers, and, machines, NLP, techniques, enable, computers, to, understand, interpret, and, generate, human, language, facilitating, tasks, such, as, speech, recognition, machine, translation, sentiment, analysis, and, chatbot, development, One, of, the, key, challenges, in, NLP, is, accurately, capturing, the, nuances, and, complexities, of, human, language, This, involves, handling, various, linguistic, elements, like, grammar, semantics, syntax, and, context, Researchers, and, developers, employ, techniques, such, as, machine, learning, deep, learning, and, neural, networks, to, train, models, that, can, process, and, analyze, text, data, NLP, finds, applications, in, a, wide, range, of, fields, In, healthcare, NLP, is, used, to, analyze, medical, records, extract, relevant, information, and, assist, in, clinical, decision, making, In, customer, service, chatbots, powered, by, NLP, can, provide, instant, support, and, resolve, queries, NLP, also, plays, a, vital, role, in, social, media, analysis, enabling, sentiment, analysis, and, opinion, mining, However, NLP, still, faces, challenges, Ambiguities, idiomatic, expressions, and, language, variations, pose, difficulties, in, accurately, understanding, text, Bias, and, ethical, concerns, must, also, be, addressed, to, ensure, fair, and, inclusive, NLP, applications, As, NLP, continues, to, advance, researchers, are, exploring, exciting, frontiers, such, as, natural, language, understanding, context, aware, systems, and, multi, -, modal, language, processing, These, advancements, hold, immense, potential, for, enhancing, human, computer, interaction, and, unlocking, new, possibilities, across, industries]\n"
     ]
    }
   ],
   "source": [
    "new_text = []\n",
    "for token in doc:\n",
    "    if token.pos_ not in ['SPACE','X','PUNCT']:\n",
    "        new_text.append(token)\n",
    "print(new_text)"
   ]
  },
  {
   "cell_type": "code",
   "execution_count": 29,
   "metadata": {},
   "outputs": [
    {
     "name": "stdout",
     "output_type": "stream",
     "text": [
      "{103: 6, 90: 7, 84: 32, 92: 82, 85: 19, 97: 41, 96: 10, 87: 8, 100: 34, 95: 3, 89: 16, 94: 5, 93: 1, 86: 6, 98: 1}\n"
     ]
    },
    {
     "data": {
      "text/plain": [
       "'PROPN'"
      ]
     },
     "execution_count": 29,
     "metadata": {},
     "output_type": "execute_result"
    }
   ],
   "source": [
    "# to get count of nouns adverbs, pos_ etc\n",
    "# spacy.attributes.POS\n",
    "count = doc.count_by(spacy.attrs.POS)\n",
    "print(count) # output will be hash value of the word: count_value\n",
    "# to get word\n",
    "doc.vocab[96].text"
   ]
  },
  {
   "cell_type": "code",
   "execution_count": 30,
   "metadata": {},
   "outputs": [
    {
     "name": "stdout",
     "output_type": "stream",
     "text": [
      "SPACE\n",
      "DET\n",
      "ADJ\n",
      "NOUN\n",
      "ADP\n",
      "PUNCT\n",
      "PROPN\n",
      "AUX\n",
      "VERB\n",
      "PRON\n",
      "CCONJ\n",
      "PART\n",
      "NUM\n",
      "ADV\n",
      "SCONJ\n"
     ]
    }
   ],
   "source": [
    "for keys,values in count.items():\n",
    "    print(doc.vocab[keys].text)"
   ]
  }
 ],
 "metadata": {
  "kernelspec": {
   "display_name": "Python 3",
   "language": "python",
   "name": "python3"
  },
  "language_info": {
   "codemirror_mode": {
    "name": "ipython",
    "version": 3
   },
   "file_extension": ".py",
   "mimetype": "text/x-python",
   "name": "python",
   "nbconvert_exporter": "python",
   "pygments_lexer": "ipython3",
   "version": "3.11.3"
  },
  "orig_nbformat": 4
 },
 "nbformat": 4,
 "nbformat_minor": 2
}
